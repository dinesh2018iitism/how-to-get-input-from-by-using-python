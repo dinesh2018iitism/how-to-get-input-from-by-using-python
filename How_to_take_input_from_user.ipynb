{
  "nbformat": 4,
  "nbformat_minor": 0,
  "metadata": {
    "colab": {
      "provenance": [],
      "authorship_tag": "ABX9TyPMmKgT/vfWj76vIMKd95xs",
      "include_colab_link": true
    },
    "kernelspec": {
      "name": "python3",
      "display_name": "Python 3"
    },
    "language_info": {
      "name": "python"
    }
  },
  "cells": [
    {
      "cell_type": "markdown",
      "metadata": {
        "id": "view-in-github",
        "colab_type": "text"
      },
      "source": [
        "<a href=\"https://colab.research.google.com/github/dinesh2018iitism/how-to-get-input-from-by-using-python/blob/main/How_to_take_input_from_user.ipynb\" target=\"_parent\"><img src=\"https://colab.research.google.com/assets/colab-badge.svg\" alt=\"Open In Colab\"/></a>"
      ]
    },
    {
      "cell_type": "code",
      "execution_count": null,
      "metadata": {
        "colab": {
          "base_uri": "https://localhost:8080/"
        },
        "id": "nJYpCI4FG8w4",
        "outputId": "794f8d80-c1b0-4d18-a2a7-ec8347ba0712"
      },
      "outputs": [
        {
          "output_type": "stream",
          "name": "stdout",
          "text": [
            "Enter your name: DINESH\n",
            "Enter your ID: 12564\n",
            "Enter your email: dinesh@gmail.com\n",
            "Enter your password: DINESH45\n",
            "Name: DINESH\n",
            "Employee ID: 12564\n",
            "Email: dinesh@gmail.com\n",
            "Your password is: DINESH45\n"
          ]
        }
      ],
      "source": [
        "name = input(\"Enter your name: \")\n",
        "if not name:\n",
        "  print(\"Please enter a valid name.\")\n",
        "  name = input(\"Enter your name: \")\n",
        "\n",
        "employee_id = int(input(\"Enter your ID: \"))\n",
        "if employee_id < 1000:\n",
        "  print(\"Enter a valid ID.\")\n",
        "  employee_id = int(input(\"Enter your ID: \"))\n",
        "\n",
        "email = input(\"Enter your email: \")\n",
        "if \"@\" not in email:\n",
        "  print(\"Please enter a valid email ID.\")\n",
        "  email = input(\"Enter your email: \")\n",
        "\n",
        "password = input(\"Enter your password: \")\n",
        "if len(password) < 5:\n",
        "  print(\"Please Enter a Valid Password\")\n",
        "  password = input(\"Enter your password: \")\n",
        "\n",
        "print(\"Name:\", name)\n",
        "print(\"Employee ID:\", employee_id)\n",
        "print(\"Email:\", email)\n",
        "print(\"Your password is:\", password)\n",
        "\n"
      ]
    },
    {
      "cell_type": "code",
      "source": [],
      "metadata": {
        "id": "IyaSFfP9MTgd"
      },
      "execution_count": null,
      "outputs": []
    }
  ]
}